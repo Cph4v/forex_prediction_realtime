{
 "cells": [
  {
   "cell_type": "markdown",
   "metadata": {},
   "source": [
    "# 1. Get Raw Data"
   ]
  },
  {
   "cell_type": "markdown",
   "metadata": {},
   "source": [
    "## 1.1 Scraping from Dukascopy"
   ]
  },
  {
   "cell_type": "code",
   "execution_count": 3,
   "metadata": {},
   "outputs": [
    {
     "name": "stderr",
     "output_type": "stream",
     "text": [
      "  \u001b[32m[test run][INFO]\u001b[0m:\u001b[32m- - - - - - - - - - - - - - - - - - - - - - - - - \u001b[0m\n",
      "  \u001b[32m[test run][INFO]\u001b[0m:\u001b[32m--> start crawl_OHLCV_data_dukascopy fumc:\u001b[0m\n",
      "  \u001b[32m[test run][INFO]\u001b[0m:\u001b[32m--> number of days ALL in time range: 653\u001b[0m\n",
      "  \u001b[32m[test run][INFO]\u001b[0m:\u001b[32m--> start_date: 2023-01-01 00:00:00 , stop_date: 2024-10-14 00:00:00\u001b[0m\n",
      "  \u001b[32m[test run][INFO]\u001b[0m:\u001b[32m==============================\u001b[0m\n",
      "  \u001b[32m[test run][INFO]\u001b[0m:\u001b[32m--> EURUSD\u001b[0m\n",
      "  \u001b[32m[test run][INFO]\u001b[0m:\u001b[32m--> faild_date: https://datafeed.dukascopy.com/datafeed/EURUSD/2024/09/14/BID_candles_min_1.bi5\u001b[0m\n",
      "  \u001b[32m[test run][INFO]\u001b[0m:\u001b[32m--> df.shape: (938880, 6)\u001b[0m\n",
      "  \u001b[32m[test run][INFO]\u001b[0m:\u001b[32m--> faild_dates: [datetime.datetime(2024, 10, 14, 0, 0, tzinfo=datetime.timezone.utc)]\u001b[0m\n",
      "  \u001b[32m[test run][INFO]\u001b[0m:\u001b[32m--> fEURUSD run-time: 14.23 seconds\u001b[0m\n",
      "  \u001b[32m[test run][INFO]\u001b[0m:\u001b[32m--> crawl_OHLCV_data_dukascopy successfully.\u001b[0m\n"
     ]
    }
   ],
   "source": [
    "import pandas as pd\n",
    "from configs.feature_configs_general import generate_general_config\n",
    "from data_crawlers.dukascopy_func import (\n",
    "    crawl_OHLCV_data_dukascopy,\n",
    ")\n",
    "config_general = generate_general_config()\n",
    "faild_dates_dict = await crawl_OHLCV_data_dukascopy(\n",
    "    feature_config = config_general \n",
    ")"
   ]
  },
  {
   "cell_type": "markdown",
   "metadata": {},
   "source": [
    "## 1.2 Get Broker Data API"
   ]
  },
  {
   "cell_type": "code",
   "execution_count": 20,
   "metadata": {},
   "outputs": [
    {
     "name": "stderr",
     "output_type": "stream",
     "text": [
      "  \u001b[32m[test run][INFO]\u001b[0m:\u001b[32m= = = = = = = = = = = = = = = = = = = = = = = = = \u001b[0m\n",
      "  \u001b[32m[test run][INFO]\u001b[0m:\u001b[32m--> start crawl_OHLCV_data_metatrader fumc:\u001b[0m\n"
     ]
    },
    {
     "ename": "AttributeError",
     "evalue": "'str' object has no attribute '_MetaTrader5__conn'",
     "output_type": "error",
     "traceback": [
      "\u001b[0;31m---------------------------------------------------------------------------\u001b[0m",
      "\u001b[0;31mAttributeError\u001b[0m                            Traceback (most recent call last)",
      "Cell \u001b[0;32mIn[20], line 6\u001b[0m\n\u001b[1;32m      4\u001b[0m \u001b[38;5;28;01mfrom\u001b[39;00m \u001b[38;5;21;01mconfigs\u001b[39;00m\u001b[38;5;21;01m.\u001b[39;00m\u001b[38;5;21;01mfeature_configs_general\u001b[39;00m \u001b[38;5;28;01mimport\u001b[39;00m generate_general_config\n\u001b[1;32m      5\u001b[0m config_general \u001b[38;5;241m=\u001b[39m generate_general_config()\n\u001b[0;32m----> 6\u001b[0m \u001b[43mcrawl_OHLCV_data_metatrader\u001b[49m\u001b[43m(\u001b[49m\u001b[43mconfig_general\u001b[49m\u001b[43m)\u001b[49m\n",
      "File \u001b[0;32m~/farshid_forex_env/ml_finance_course_notebook/week4_basic_framework/pipeline/data_crawlers/metatrader_func.py:113\u001b[0m, in \u001b[0;36mcrawl_OHLCV_data_metatrader\u001b[0;34m(feature_config, logger, number_of_days, forward_fill)\u001b[0m\n\u001b[1;32m    108\u001b[0m logger\u001b[38;5;241m.\u001b[39minfo(\u001b[38;5;124mf\u001b[39m\u001b[38;5;124m\"\u001b[39m\u001b[38;5;124m--> start crawl_OHLCV_data_metatrader fumc:\u001b[39m\u001b[38;5;124m\"\u001b[39m)\n\u001b[1;32m    109\u001b[0m \u001b[38;5;66;03m# key_name = \"rawdata_metatrader\"\u001b[39;00m\n\u001b[1;32m    110\u001b[0m \u001b[38;5;66;03m# table_name = databese_tables[key_name][\"table_name\"]\u001b[39;00m\n\u001b[1;32m    111\u001b[0m \u001b[38;5;66;03m# overlap_days = databese_tables[key_name][\"overlap_days\"]\u001b[39;00m\n\u001b[0;32m--> 113\u001b[0m \u001b[43minitialize_login_metatrader\u001b[49m\u001b[43m(\u001b[49m\u001b[43m)\u001b[49m\n\u001b[1;32m    114\u001b[0m data_source \u001b[38;5;241m=\u001b[39m \u001b[38;5;124m\"\u001b[39m\u001b[38;5;124mmetatrader\u001b[39m\u001b[38;5;124m\"\u001b[39m\n\u001b[1;32m    115\u001b[0m folder_name \u001b[38;5;241m=\u001b[39m \u001b[38;5;124mf\u001b[39m\u001b[38;5;124m\"\u001b[39m\u001b[38;5;132;01m{\u001b[39;00mdata_folder\u001b[38;5;132;01m}\u001b[39;00m\u001b[38;5;124m/\u001b[39m\u001b[38;5;132;01m{\u001b[39;00mdata_source\u001b[38;5;132;01m}\u001b[39;00m\u001b[38;5;124m/\u001b[39m\u001b[38;5;124m\"\u001b[39m\n",
      "File \u001b[0;32m~/farshid_forex_env/ml_finance_course_notebook/week4_basic_framework/pipeline/data_crawlers/metatrader_func.py:23\u001b[0m, in \u001b[0;36minitialize_login_metatrader\u001b[0;34m(logger, broker_path)\u001b[0m\n\u001b[1;32m     21\u001b[0m \u001b[38;5;28;01mdef\u001b[39;00m \u001b[38;5;21minitialize_login_metatrader\u001b[39m(logger\u001b[38;5;241m=\u001b[39mdefault_logger, broker_path \u001b[38;5;241m=\u001b[39m broker_path):\n\u001b[1;32m     22\u001b[0m     \u001b[38;5;66;03m# establish MetaTrader 5 connection to a specified trading account\u001b[39;00m\n\u001b[0;32m---> 23\u001b[0m     \u001b[38;5;28;01mif\u001b[39;00m \u001b[38;5;129;01mnot\u001b[39;00m \u001b[43mmt5\u001b[49m\u001b[38;5;241;43m.\u001b[39;49m\u001b[43minitialize\u001b[49m\u001b[43m(\u001b[49m\u001b[43mbroker_path\u001b[49m\u001b[43m)\u001b[49m:\n\u001b[1;32m     24\u001b[0m         \u001b[38;5;28mprint\u001b[39m(\u001b[38;5;124m\"\u001b[39m\u001b[38;5;124minitialize() failed, error code =\u001b[39m\u001b[38;5;124m\"\u001b[39m,mt5\u001b[38;5;241m.\u001b[39mlast_error())\n\u001b[1;32m     25\u001b[0m         error_msg\u001b[38;5;241m=\u001b[39m\u001b[38;5;124m\"\u001b[39m\u001b[38;5;124m!!! ERROR in initializing metatrader.\u001b[39m\u001b[38;5;124m\"\u001b[39m\n",
      "File \u001b[0;32m~/anaconda3/envs/prophet_forex/lib/python3.8/site-packages/mt5linux/__init__.py:464\u001b[0m, in \u001b[0;36mMetaTrader5.initialize\u001b[0;34m(self, *args, **kwargs)\u001b[0m\n\u001b[1;32m    371\u001b[0m         \u001b[38;5;124mr\u001b[39m\u001b[38;5;124;03m'''\u001b[39;00m\n\u001b[1;32m    372\u001b[0m \u001b[38;5;124;03m# initialize\u001b[39;00m\n\u001b[1;32m    373\u001b[0m \u001b[38;5;124;03m        \u001b[39;00m\n\u001b[0;32m   (...)\u001b[0m\n\u001b[1;32m    461\u001b[0m \u001b[38;5;124;03m    `shutdown`, `terminal_info`, `version`\u001b[39;00m\n\u001b[1;32m    462\u001b[0m \u001b[38;5;124;03m        '''\u001b[39;00m\n\u001b[1;32m    463\u001b[0m         code\u001b[38;5;241m=\u001b[39m\u001b[38;5;124mf\u001b[39m\u001b[38;5;124m'\u001b[39m\u001b[38;5;124mmt5.initialize(*\u001b[39m\u001b[38;5;132;01m{\u001b[39;00margs\u001b[38;5;132;01m}\u001b[39;00m\u001b[38;5;124m,**\u001b[39m\u001b[38;5;132;01m{\u001b[39;00mkwargs\u001b[38;5;132;01m}\u001b[39;00m\u001b[38;5;124m)\u001b[39m\u001b[38;5;124m'\u001b[39m\n\u001b[0;32m--> 464\u001b[0m         \u001b[38;5;28;01mreturn\u001b[39;00m \u001b[38;5;28;43mself\u001b[39;49m\u001b[38;5;241;43m.\u001b[39;49m\u001b[43m__conn\u001b[49m\u001b[38;5;241m.\u001b[39meval(code)\n",
      "\u001b[0;31mAttributeError\u001b[0m: 'str' object has no attribute '_MetaTrader5__conn'"
     ]
    }
   ],
   "source": [
    "from data_crawlers.metatrader_func import (\n",
    "    crawl_OHLCV_data_metatrader,\n",
    ")\n",
    "from configs.feature_configs_general import generate_general_config\n",
    "config_general = generate_general_config()\n",
    "crawl_OHLCV_data_metatrader(config_general)\n"
   ]
  },
  {
   "cell_type": "markdown",
   "metadata": {},
   "source": [
    "# 2. Preprocess Data"
   ]
  },
  {
   "cell_type": "code",
   "execution_count": 3,
   "metadata": {},
   "outputs": [
    {
     "name": "stderr",
     "output_type": "stream",
     "text": [
      "  \u001b[32m[test run][INFO]\u001b[0m:\u001b[32m= = = = = = = = = = = = = = = = = = = = = = = = = \u001b[0m\n",
      "  \u001b[32m[test run][INFO]\u001b[0m:\u001b[32m--> start history_data_stage_one fumc:\u001b[0m\n",
      "  \u001b[32m[test run][INFO]\u001b[0m:\u001b[32m-------------------------\u001b[0m\n",
      "  \u001b[32m[test run][INFO]\u001b[0m:\u001b[32m--> symbol:EURUSD\u001b[0m\n"
     ]
    },
    {
     "name": "stderr",
     "output_type": "stream",
     "text": [
      "  \u001b[32m[test run][INFO]\u001b[0m:\u001b[32m--> number of nulls before forward fill: 0\u001b[0m\n",
      "  \u001b[32m[test run][INFO]\u001b[0m:\u001b[32m--> min time: 2023-01-03 00:00:00, max time: 2024-09-27 13:45:00\u001b[0m\n",
      "  \u001b[32m[test run][INFO]\u001b[0m:\u001b[32m--> parquet saved. c:\\Users\\MT\\mlalgotrading\\week4\\pipeline\\/data/stage_one_data//EURUSD_stage_one.parquet\u001b[0m\n",
      "  \u001b[32m[test run][INFO]\u001b[0m:\u001b[32m--> history_data_stage_one run successfully.\u001b[0m\n"
     ]
    }
   ],
   "source": [
    "from stage_one_data.history_data_stage_one_func import history_data_stage_one\n",
    "from configs.feature_configs_general import generate_general_config\n",
    "config_general = generate_general_config()\n",
    "history_data_stage_one(config_general)"
   ]
  },
  {
   "cell_type": "code",
   "execution_count": 4,
   "metadata": {},
   "outputs": [
    {
     "name": "stderr",
     "output_type": "stream",
     "text": [
      "  \u001b[32m[test run][INFO]\u001b[0m:\u001b[32m- - - - - - - - - - - - - - - - - - - - - - - - - \u001b[0m\n",
      "  \u001b[32m[test run][INFO]\u001b[0m:\u001b[32m--> start historiy_realtime_candle fumc:\u001b[0m\n",
      "  \u001b[32m[test run][INFO]\u001b[0m:\u001b[32m= = = = = = = = = = = = = = = = = = = = = = = = = = = = = = = = = = = \u001b[0m\n",
      "  \u001b[32m[test run][INFO]\u001b[0m:\u001b[32msymbol: EURUSD\u001b[0m\n"
     ]
    },
    {
     "name": "stderr",
     "output_type": "stream",
     "text": [
      "  \u001b[32m[test run][INFO]\u001b[0m:\u001b[32m--> EURUSD saved.\u001b[0m\n",
      "  \u001b[32m[test run][INFO]\u001b[0m:\u001b[32m--> historiy_realtime_candle run successfully.\u001b[0m\n"
     ]
    }
   ],
   "source": [
    "from realtime_candle.realtime_candle_func import historiy_realtime_candle\n",
    "from configs.feature_configs_general import generate_general_config\n",
    "config_general = generate_general_config()\n",
    "historiy_realtime_candle(config_general)"
   ]
  },
  {
   "cell_type": "markdown",
   "metadata": {},
   "source": [
    "## Homework: Add your own features or representations"
   ]
  },
  {
   "cell_type": "markdown",
   "metadata": {},
   "source": [
    "# 4. Features\n",
    "## 4.1 Indicators"
   ]
  },
  {
   "cell_type": "code",
   "execution_count": 5,
   "metadata": {},
   "outputs": [
    {
     "name": "stderr",
     "output_type": "stream",
     "text": [
      "  \u001b[32m[test run][INFO]\u001b[0m:\u001b[32m- - - - - - - - - - - - - - - - - - - - - - - - - \u001b[0m\n",
      "  \u001b[32m[test run][INFO]\u001b[0m:\u001b[32m--> start history_indicator_calculator fumc:\u001b[0m\n",
      "  \u001b[32m[test run][INFO]\u001b[0m:\u001b[32m* * * * * * * * * * * * * * * * * * * * * * * * * \u001b[0m\n",
      "  \u001b[32m[test run][INFO]\u001b[0m:\u001b[32m--------------------------------------------------\u001b[0m\n",
      "  \u001b[32m[test run][INFO]\u001b[0m:\u001b[32m--> symbol:EURUSD | fe_prefix:fe_RSI\u001b[0m\n",
      "  \u001b[32m[test run][INFO]\u001b[0m:\u001b[32m--> max_candle_timeframe:240 | max_window_size:30| drop_rows:1487.0\u001b[0m\n",
      "  \u001b[32m[test run][INFO]\u001b[0m:\u001b[32m--> fe_RSI_EURUSD done.\u001b[0m\n",
      "  \u001b[32m[test run][INFO]\u001b[0m:\u001b[32m--------------------------------------------------\u001b[0m\n",
      "  \u001b[32m[test run][INFO]\u001b[0m:\u001b[32m--> symbol:EURUSD | fe_prefix:fe_EMA\u001b[0m\n",
      "  \u001b[32m[test run][INFO]\u001b[0m:\u001b[32m--> max_candle_timeframe:5 | max_window_size:1440| drop_rows:1440.0\u001b[0m\n",
      "  \u001b[32m[test run][INFO]\u001b[0m:\u001b[32m--> fe_EMA_EURUSD done.\u001b[0m\n",
      "  \u001b[32m[test run][INFO]\u001b[0m:\u001b[32m--------------------------------------------------\u001b[0m\n",
      "  \u001b[32m[test run][INFO]\u001b[0m:\u001b[32m--> symbol:EURUSD | fe_prefix:fe_SMA\u001b[0m\n",
      "  \u001b[32m[test run][INFO]\u001b[0m:\u001b[32m--> max_candle_timeframe:5 | max_window_size:720| drop_rows:720.0\u001b[0m\n",
      "  \u001b[32m[test run][INFO]\u001b[0m:\u001b[32m--> fe_SMA_EURUSD done.\u001b[0m\n",
      "  \u001b[32m[test run][INFO]\u001b[0m:\u001b[32m--------------------------------------------------\u001b[0m\n",
      "  \u001b[32m[test run][INFO]\u001b[0m:\u001b[32m--> symbol:EURUSD | fe_prefix:fe_ATR\u001b[0m\n",
      "  \u001b[32m[test run][INFO]\u001b[0m:\u001b[32m--> max_candle_timeframe:240 | max_window_size:30| drop_rows:1487.0\u001b[0m\n",
      "  \u001b[32m[test run][INFO]\u001b[0m:\u001b[32m--> fe_ATR_EURUSD done.\u001b[0m\n",
      "  \u001b[32m[test run][INFO]\u001b[0m:\u001b[32m--------------------------------------------------\u001b[0m\n",
      "  \u001b[32m[test run][INFO]\u001b[0m:\u001b[32m--> symbol:EURUSD | fe_prefix:fe_RSTD\u001b[0m\n",
      "  \u001b[32m[test run][INFO]\u001b[0m:\u001b[32m--> max_candle_timeframe:240 | max_window_size:30| drop_rows:1487.0\u001b[0m\n",
      "  \u001b[32m[test run][INFO]\u001b[0m:\u001b[32m--> fe_RSTD_EURUSD done.\u001b[0m\n",
      "  \u001b[32m[test run][INFO]\u001b[0m:\u001b[32m--> fe_ratio_EURUSD saved.\u001b[0m\n",
      "  \u001b[32m[test run][INFO]\u001b[0m:\u001b[32m--> history_indicator_calculator run successfully.\u001b[0m\n"
     ]
    }
   ],
   "source": [
    "from create_features.indicator_func import history_indicator_calculator\n",
    "from configs.feature_configs_general import generate_general_config\n",
    "config_general = generate_general_config()\n",
    "history_indicator_calculator(config_general)"
   ]
  },
  {
   "cell_type": "markdown",
   "metadata": {},
   "source": [
    "## 4.2 Shift features"
   ]
  },
  {
   "cell_type": "code",
   "execution_count": 6,
   "metadata": {},
   "outputs": [
    {
     "name": "stderr",
     "output_type": "stream",
     "text": [
      "  \u001b[32m[test run][INFO]\u001b[0m:\u001b[32m= = = = = = = = = = = = = = = = = = = = = = = = = = = = = = = = = = = \u001b[0m\n",
      "  \u001b[32m[test run][INFO]\u001b[0m:\u001b[32m--> start history_cndl_shift fumc:\u001b[0m\n",
      "  \u001b[32m[test run][INFO]\u001b[0m:\u001b[32m-  -  -  -  -  -  -  -  -  -  -  -  -  -  -  -  -  -  -  -  \u001b[0m\n",
      "  \u001b[32m[test run][INFO]\u001b[0m:\u001b[32m--> fe_cndl_shift | EURUSD saved.\u001b[0m\n",
      "  \u001b[32m[test run][INFO]\u001b[0m:\u001b[32m--> history_cndl_shift run successfully.\u001b[0m\n"
     ]
    }
   ],
   "source": [
    "from create_features.realtime_shift_func import history_cndl_shift\n",
    "from configs.feature_configs_general import generate_general_config\n",
    "config_general = generate_general_config()\n",
    "history_cndl_shift(config_general)"
   ]
  },
  {
   "cell_type": "markdown",
   "metadata": {},
   "source": [
    "# Candle and Time features"
   ]
  },
  {
   "cell_type": "code",
   "execution_count": 8,
   "metadata": {},
   "outputs": [
    {
     "name": "stderr",
     "output_type": "stream",
     "text": [
      "  \u001b[32m[test run][INFO]\u001b[0m:\u001b[32m- - - - - - - - - - - - - - - - - - - - - - - - - \u001b[0m\n",
      "  \u001b[32m[test run][INFO]\u001b[0m:\u001b[32m--> start history_basic_features fumc:\u001b[0m\n",
      "  \u001b[32m[test run][INFO]\u001b[0m:\u001b[32m- - - - - - - - - - - - - - - - - - - - - - - - - - - - - - \u001b[0m\n",
      "  \u001b[32m[test run][INFO]\u001b[0m:\u001b[32m--> fe_cndl, EURUSD:\u001b[0m\n",
      "  \u001b[32m[test run][INFO]\u001b[0m:\u001b[32m--> fe_cndl EURUSD saved.\u001b[0m\n",
      "  \u001b[32m[test run][INFO]\u001b[0m:\u001b[32m- - - - - - - - - - - - - - - - - - - - - - - - - - - - - - \u001b[0m\n",
      "  \u001b[32m[test run][INFO]\u001b[0m:\u001b[32m--> fe_cndl_shift, EURUSD :\u001b[0m\n",
      "  \u001b[32m[test run][INFO]\u001b[0m:\u001b[32m--> fe_cndl_shift_stage_2 EURUSD saved.\u001b[0m\n",
      "  \u001b[32m[test run][INFO]\u001b[0m:\u001b[32m--> history_basic_features run successfully.\u001b[0m\n",
      "  \u001b[32m[test run][INFO]\u001b[0m:\u001b[32m- - - - - - - - - - - - - - - - - - - - - - - - - \u001b[0m\n",
      "  \u001b[32m[test run][INFO]\u001b[0m:\u001b[32m--> start history_fe_market_close fumc:\u001b[0m\n",
      "  \u001b[32m[test run][INFO]\u001b[0m:\u001b[32m-->EURUSD\u001b[0m\n",
      "  \u001b[32m[test run][INFO]\u001b[0m:\u001b[32m= = = = = = = = = = = = = = = = = = = = = = = = = = = = = = = = = = = = = = = = \u001b[0m\n",
      "  \u001b[32m[test run][INFO]\u001b[0m:\u001b[32m--> history_fe_market_close run successfully.\u001b[0m\n",
      "  \u001b[32m[test run][INFO]\u001b[0m:\u001b[32m- - - - - - - - - - - - - - - - - - - - - - - - - \u001b[0m\n",
      "  \u001b[32m[test run][INFO]\u001b[0m:\u001b[32m--> start history_fe_time fumc:\u001b[0m\n",
      "  \u001b[32m[test run][INFO]\u001b[0m:\u001b[32m--> history_fe_time run successfully.\u001b[0m\n"
     ]
    }
   ],
   "source": [
    "from create_features.create_basic_features_func import history_basic_features, history_fe_market_close, history_fe_time\n",
    "from configs.feature_configs_general import generate_general_config\n",
    "\n",
    "config_general = generate_general_config()\n",
    "history_basic_features(config_general)\n",
    "history_fe_market_close(config_general)\n",
    "history_fe_time(config_general)\n"
   ]
  },
  {
   "cell_type": "markdown",
   "metadata": {},
   "source": [
    "## 4.3 Window features"
   ]
  },
  {
   "cell_type": "code",
   "execution_count": 7,
   "metadata": {},
   "outputs": [
    {
     "name": "stderr",
     "output_type": "stream",
     "text": [
      "  \u001b[32m[test run][INFO]\u001b[0m:\u001b[32m- - - - - - - - - - - - - - - - - - - - - - - - - \u001b[0m\n",
      "  \u001b[32m[test run][INFO]\u001b[0m:\u001b[32m--> start history_fe_WIN_features fumc:\u001b[0m\n",
      "  \u001b[32m[test run][INFO]\u001b[0m:\u001b[32m---> symbol: EURUSD\u001b[0m\n",
      "  \u001b[32m[test run][INFO]\u001b[0m:\u001b[32m= = = = = = = = = = = = = = = = = = = = = = = = = = = = = = = = = = = = = = = = \u001b[0m\n",
      "  \u001b[32m[test run][INFO]\u001b[0m:\u001b[32m--> history_fe_WIN_features run successfully.\u001b[0m\n"
     ]
    }
   ],
   "source": [
    "from create_features.window_agg_features_func import history_fe_WIN_features\n",
    "from configs.feature_configs_general import generate_general_config\n",
    "config_general = generate_general_config()\n",
    "history_fe_WIN_features(config_general)"
   ]
  },
  {
   "cell_type": "markdown",
   "metadata": {},
   "source": [
    "# 5. Merged features' dataset"
   ]
  },
  {
   "cell_type": "code",
   "execution_count": 9,
   "metadata": {},
   "outputs": [
    {
     "name": "stderr",
     "output_type": "stream",
     "text": [
      "  \u001b[32m[test run][INFO]\u001b[0m:\u001b[32m- - - - - - - - - - - - - - - - - - - - - - - - - \u001b[0m\n",
      "  \u001b[32m[test run][INFO]\u001b[0m:\u001b[32m--> start history_columns_merge fumc:\u001b[0m\n",
      "  \u001b[32m[test run][INFO]\u001b[0m:\u001b[32m--> add fe_time.\u001b[0m\n"
     ]
    },
    {
     "name": "stderr",
     "output_type": "stream",
     "text": [
      "  \u001b[32m[test run][INFO]\u001b[0m:\u001b[32m ^ - ^  ^ - ^  ^ - ^  ^ - ^  ^ - ^  ^ - ^  ^ - ^  ^ - ^  ^ - ^  ^ - ^ \u001b[0m\n",
      "  \u001b[32m[test run][INFO]\u001b[0m:\u001b[32m--> EURUSD | fe_RSI\u001b[0m\n",
      "  \u001b[32m[test run][INFO]\u001b[0m:\u001b[32m--> EURUSD | -->fe_RSI<---- --------------------------\u001b[0m\n",
      "  \u001b[32m[test run][INFO]\u001b[0m:\u001b[32m--> EURUSD | fe_RSTD\u001b[0m\n",
      "  \u001b[32m[test run][INFO]\u001b[0m:\u001b[32m--> EURUSD | -->fe_RSTD<---- --------------------------\u001b[0m\n",
      "  \u001b[32m[test run][INFO]\u001b[0m:\u001b[32m--> EURUSD | fe_EMA\u001b[0m\n",
      "  \u001b[32m[test run][INFO]\u001b[0m:\u001b[32m--> EURUSD | -->fe_EMA<---- --------------------------\u001b[0m\n",
      "  \u001b[32m[test run][INFO]\u001b[0m:\u001b[32m--> EURUSD | fe_ratio\u001b[0m\n",
      "  \u001b[32m[test run][INFO]\u001b[0m:\u001b[32m--> EURUSD | -->fe_ratio<---- --------------------------\u001b[0m\n",
      "  \u001b[32m[test run][INFO]\u001b[0m:\u001b[32m--> EURUSD | fe_SMA\u001b[0m\n",
      "  \u001b[32m[test run][INFO]\u001b[0m:\u001b[32m--> EURUSD | -->fe_SMA<---- --------------------------\u001b[0m\n",
      "  \u001b[32m[test run][INFO]\u001b[0m:\u001b[32m--> EURUSD | fe_market_close\u001b[0m\n",
      "  \u001b[32m[test run][INFO]\u001b[0m:\u001b[32m--> EURUSD | -->fe_market_close<---- --------------------------\u001b[0m\n",
      "  \u001b[32m[test run][INFO]\u001b[0m:\u001b[32m--> EURUSD | fe_WIN\u001b[0m\n",
      "  \u001b[32m[test run][INFO]\u001b[0m:\u001b[32m--> EURUSD | -->fe_WIN<---- --------------------------\u001b[0m\n",
      "  \u001b[32m[test run][INFO]\u001b[0m:\u001b[32m--> EURUSD | fe_cndl_shift\u001b[0m\n",
      "  \u001b[32m[test run][INFO]\u001b[0m:\u001b[32m--> EURUSD | -->fe_cndl_shift<---- --------------------------\u001b[0m\n",
      "  \u001b[32m[test run][INFO]\u001b[0m:\u001b[32m--> EURUSD | fe_cndl\u001b[0m\n",
      "  \u001b[32m[test run][INFO]\u001b[0m:\u001b[32m--> EURUSD | -->fe_cndl<---- --------------------------\u001b[0m\n",
      "  \u001b[32m[test run][INFO]\u001b[0m:\u001b[32m--> EURUSD | fe_ATR\u001b[0m\n",
      "  \u001b[32m[test run][INFO]\u001b[0m:\u001b[32m--> EURUSD | -->fe_ATR<---- --------------------------\u001b[0m\n",
      "  \u001b[32m[test run][INFO]\u001b[0m:\u001b[32m--> (130630, 252)\u001b[0m\n",
      "  \u001b[32m[test run][INFO]\u001b[0m:\u001b[32m--> number of nulls all in df_dataset: shape: (1,)\n",
      "Series: 'sum' [u32]\n",
      "[\n",
      "\t188098\n",
      "] / 130630\u001b[0m\n",
      "  \u001b[32m[test run][INFO]\u001b[0m:\u001b[32m--> trg_cols:0 | fe_cols:251\u001b[0m\n"
     ]
    },
    {
     "name": "stdout",
     "output_type": "stream",
     "text": [
      "Mem. usage decreased to 107.64 Mb (51.1% reduction)\n"
     ]
    },
    {
     "name": "stderr",
     "output_type": "stream",
     "text": [
      "  \u001b[32m[test run][INFO]\u001b[0m:\u001b[32m--> df final shape: (129143, 253) | dataset saved.\u001b[0m\n",
      "  \u001b[32m[test run][INFO]\u001b[0m:\u001b[32m--> history_fe_time run successfully.\u001b[0m\n"
     ]
    }
   ],
   "source": [
    "from create_dataset.columns_merge_func import history_columns_merge\n",
    "from configs.feature_configs_general import generate_general_config\n",
    "config_general = generate_general_config()\n",
    "history_columns_merge(config_general,general_mode=True)"
   ]
  },
  {
   "cell_type": "code",
   "execution_count": 10,
   "metadata": {},
   "outputs": [
    {
     "name": "stderr",
     "output_type": "stream",
     "text": [
      "<>:1: SyntaxWarning: invalid escape sequence '\\d'\n",
      "<>:1: SyntaxWarning: invalid escape sequence '\\d'\n",
      "C:\\Users\\MT\\AppData\\Local\\Temp\\ipykernel_436\\3574330697.py:1: SyntaxWarning: invalid escape sequence '\\d'\n",
      "  df = pd.read_parquet('data\\dataset\\dataset.parquet')\n"
     ]
    },
    {
     "data": {
      "text/html": [
       "<div>\n",
       "<style scoped>\n",
       "    .dataframe tbody tr th:only-of-type {\n",
       "        vertical-align: middle;\n",
       "    }\n",
       "\n",
       "    .dataframe tbody tr th {\n",
       "        vertical-align: top;\n",
       "    }\n",
       "\n",
       "    .dataframe thead th {\n",
       "        text-align: right;\n",
       "    }\n",
       "</style>\n",
       "<table border=\"1\" class=\"dataframe\">\n",
       "  <thead>\n",
       "    <tr style=\"text-align: right;\">\n",
       "      <th></th>\n",
       "      <th>_time</th>\n",
       "      <th>fe_time_month</th>\n",
       "      <th>fe_time_quarter</th>\n",
       "      <th>fe_time_semester</th>\n",
       "      <th>fe_time_week</th>\n",
       "      <th>fe_time_day_of_week</th>\n",
       "      <th>fe_time_day_of_month</th>\n",
       "      <th>fe_time_day_of_year</th>\n",
       "      <th>fe_time_month_start</th>\n",
       "      <th>fe_time_month_end</th>\n",
       "      <th>...</th>\n",
       "      <th>fe_ATR_EURUSD_M240_W30_cndl_M240</th>\n",
       "      <th>fe_ATR_EURUSD_M30_W30_cndl_M30</th>\n",
       "      <th>fe_ATR_EURUSD_M5_W30_cndl_M5</th>\n",
       "      <th>fe_ATR_EURUSD_M60_W30_cndl_M60</th>\n",
       "      <th>fe_ATR_EURUSD_M15_W7_cndl_M15</th>\n",
       "      <th>fe_ATR_EURUSD_M240_W7_cndl_M240</th>\n",
       "      <th>fe_ATR_EURUSD_M30_W7_cndl_M30</th>\n",
       "      <th>fe_ATR_EURUSD_M5_W7_cndl_M5</th>\n",
       "      <th>fe_ATR_EURUSD_M60_W7_cndl_M60</th>\n",
       "      <th>symbol</th>\n",
       "    </tr>\n",
       "  </thead>\n",
       "  <tbody>\n",
       "    <tr>\n",
       "      <th>0</th>\n",
       "      <td>2023-01-10 03:55:00</td>\n",
       "      <td>1</td>\n",
       "      <td>1</td>\n",
       "      <td>1</td>\n",
       "      <td>2</td>\n",
       "      <td>0</td>\n",
       "      <td>9</td>\n",
       "      <td>9</td>\n",
       "      <td>0</td>\n",
       "      <td>0</td>\n",
       "      <td>...</td>\n",
       "      <td>43.630001</td>\n",
       "      <td>12.213333</td>\n",
       "      <td>3.623333</td>\n",
       "      <td>16.603333</td>\n",
       "      <td>6.600000</td>\n",
       "      <td>36.228573</td>\n",
       "      <td>8.485714</td>\n",
       "      <td>3.614286</td>\n",
       "      <td>12.600000</td>\n",
       "      <td>dataset</td>\n",
       "    </tr>\n",
       "    <tr>\n",
       "      <th>1</th>\n",
       "      <td>2023-01-10 04:00:00</td>\n",
       "      <td>1</td>\n",
       "      <td>1</td>\n",
       "      <td>1</td>\n",
       "      <td>2</td>\n",
       "      <td>0</td>\n",
       "      <td>9</td>\n",
       "      <td>9</td>\n",
       "      <td>0</td>\n",
       "      <td>0</td>\n",
       "      <td>...</td>\n",
       "      <td>43.630001</td>\n",
       "      <td>12.213333</td>\n",
       "      <td>3.650000</td>\n",
       "      <td>16.603333</td>\n",
       "      <td>6.600000</td>\n",
       "      <td>36.228573</td>\n",
       "      <td>8.485714</td>\n",
       "      <td>3.100000</td>\n",
       "      <td>12.600000</td>\n",
       "      <td>dataset</td>\n",
       "    </tr>\n",
       "    <tr>\n",
       "      <th>2</th>\n",
       "      <td>2023-01-10 04:05:00</td>\n",
       "      <td>1</td>\n",
       "      <td>1</td>\n",
       "      <td>1</td>\n",
       "      <td>2</td>\n",
       "      <td>0</td>\n",
       "      <td>9</td>\n",
       "      <td>9</td>\n",
       "      <td>0</td>\n",
       "      <td>0</td>\n",
       "      <td>...</td>\n",
       "      <td>43.630001</td>\n",
       "      <td>12.213333</td>\n",
       "      <td>3.656667</td>\n",
       "      <td>16.603333</td>\n",
       "      <td>6.600000</td>\n",
       "      <td>36.228573</td>\n",
       "      <td>8.485714</td>\n",
       "      <td>3.057143</td>\n",
       "      <td>12.600000</td>\n",
       "      <td>dataset</td>\n",
       "    </tr>\n",
       "    <tr>\n",
       "      <th>3</th>\n",
       "      <td>2023-01-10 04:10:00</td>\n",
       "      <td>1</td>\n",
       "      <td>1</td>\n",
       "      <td>1</td>\n",
       "      <td>2</td>\n",
       "      <td>0</td>\n",
       "      <td>9</td>\n",
       "      <td>9</td>\n",
       "      <td>0</td>\n",
       "      <td>0</td>\n",
       "      <td>...</td>\n",
       "      <td>43.630001</td>\n",
       "      <td>12.213333</td>\n",
       "      <td>3.793333</td>\n",
       "      <td>16.603333</td>\n",
       "      <td>6.471428</td>\n",
       "      <td>36.228573</td>\n",
       "      <td>8.485714</td>\n",
       "      <td>3.600000</td>\n",
       "      <td>12.600000</td>\n",
       "      <td>dataset</td>\n",
       "    </tr>\n",
       "    <tr>\n",
       "      <th>4</th>\n",
       "      <td>2023-01-10 04:15:00</td>\n",
       "      <td>1</td>\n",
       "      <td>1</td>\n",
       "      <td>1</td>\n",
       "      <td>2</td>\n",
       "      <td>0</td>\n",
       "      <td>9</td>\n",
       "      <td>9</td>\n",
       "      <td>0</td>\n",
       "      <td>0</td>\n",
       "      <td>...</td>\n",
       "      <td>43.630001</td>\n",
       "      <td>12.213333</td>\n",
       "      <td>3.826667</td>\n",
       "      <td>16.603333</td>\n",
       "      <td>6.471428</td>\n",
       "      <td>36.228573</td>\n",
       "      <td>8.485714</td>\n",
       "      <td>3.771429</td>\n",
       "      <td>12.600000</td>\n",
       "      <td>dataset</td>\n",
       "    </tr>\n",
       "    <tr>\n",
       "      <th>...</th>\n",
       "      <td>...</td>\n",
       "      <td>...</td>\n",
       "      <td>...</td>\n",
       "      <td>...</td>\n",
       "      <td>...</td>\n",
       "      <td>...</td>\n",
       "      <td>...</td>\n",
       "      <td>...</td>\n",
       "      <td>...</td>\n",
       "      <td>...</td>\n",
       "      <td>...</td>\n",
       "      <td>...</td>\n",
       "      <td>...</td>\n",
       "      <td>...</td>\n",
       "      <td>...</td>\n",
       "      <td>...</td>\n",
       "      <td>...</td>\n",
       "      <td>...</td>\n",
       "      <td>...</td>\n",
       "      <td>...</td>\n",
       "      <td>...</td>\n",
       "    </tr>\n",
       "    <tr>\n",
       "      <th>129138</th>\n",
       "      <td>2024-09-27 13:25:00</td>\n",
       "      <td>9</td>\n",
       "      <td>3</td>\n",
       "      <td>2</td>\n",
       "      <td>39</td>\n",
       "      <td>4</td>\n",
       "      <td>27</td>\n",
       "      <td>271</td>\n",
       "      <td>0</td>\n",
       "      <td>0</td>\n",
       "      <td>...</td>\n",
       "      <td>27.476667</td>\n",
       "      <td>8.166667</td>\n",
       "      <td>4.090000</td>\n",
       "      <td>14.880000</td>\n",
       "      <td>8.085714</td>\n",
       "      <td>30.200001</td>\n",
       "      <td>13.985714</td>\n",
       "      <td>3.142857</td>\n",
       "      <td>17.714285</td>\n",
       "      <td>dataset</td>\n",
       "    </tr>\n",
       "    <tr>\n",
       "      <th>129139</th>\n",
       "      <td>2024-09-27 13:30:00</td>\n",
       "      <td>9</td>\n",
       "      <td>3</td>\n",
       "      <td>2</td>\n",
       "      <td>39</td>\n",
       "      <td>4</td>\n",
       "      <td>27</td>\n",
       "      <td>271</td>\n",
       "      <td>0</td>\n",
       "      <td>0</td>\n",
       "      <td>...</td>\n",
       "      <td>27.476667</td>\n",
       "      <td>8.166667</td>\n",
       "      <td>4.166667</td>\n",
       "      <td>14.880000</td>\n",
       "      <td>8.085714</td>\n",
       "      <td>30.200001</td>\n",
       "      <td>13.985714</td>\n",
       "      <td>3.685714</td>\n",
       "      <td>17.714285</td>\n",
       "      <td>dataset</td>\n",
       "    </tr>\n",
       "    <tr>\n",
       "      <th>129140</th>\n",
       "      <td>2024-09-27 13:35:00</td>\n",
       "      <td>9</td>\n",
       "      <td>3</td>\n",
       "      <td>2</td>\n",
       "      <td>39</td>\n",
       "      <td>4</td>\n",
       "      <td>27</td>\n",
       "      <td>271</td>\n",
       "      <td>0</td>\n",
       "      <td>0</td>\n",
       "      <td>...</td>\n",
       "      <td>27.476667</td>\n",
       "      <td>8.166667</td>\n",
       "      <td>4.063334</td>\n",
       "      <td>14.880000</td>\n",
       "      <td>8.085714</td>\n",
       "      <td>30.200001</td>\n",
       "      <td>13.985714</td>\n",
       "      <td>3.285714</td>\n",
       "      <td>17.714285</td>\n",
       "      <td>dataset</td>\n",
       "    </tr>\n",
       "    <tr>\n",
       "      <th>129141</th>\n",
       "      <td>2024-09-27 13:40:00</td>\n",
       "      <td>9</td>\n",
       "      <td>3</td>\n",
       "      <td>2</td>\n",
       "      <td>39</td>\n",
       "      <td>4</td>\n",
       "      <td>27</td>\n",
       "      <td>271</td>\n",
       "      <td>0</td>\n",
       "      <td>0</td>\n",
       "      <td>...</td>\n",
       "      <td>27.476667</td>\n",
       "      <td>8.166667</td>\n",
       "      <td>4.076667</td>\n",
       "      <td>14.880000</td>\n",
       "      <td>7.842857</td>\n",
       "      <td>30.200001</td>\n",
       "      <td>13.985714</td>\n",
       "      <td>3.442857</td>\n",
       "      <td>17.714285</td>\n",
       "      <td>dataset</td>\n",
       "    </tr>\n",
       "    <tr>\n",
       "      <th>129142</th>\n",
       "      <td>2024-09-27 13:45:00</td>\n",
       "      <td>9</td>\n",
       "      <td>3</td>\n",
       "      <td>2</td>\n",
       "      <td>39</td>\n",
       "      <td>4</td>\n",
       "      <td>27</td>\n",
       "      <td>271</td>\n",
       "      <td>0</td>\n",
       "      <td>0</td>\n",
       "      <td>...</td>\n",
       "      <td>27.476667</td>\n",
       "      <td>8.166667</td>\n",
       "      <td>3.996667</td>\n",
       "      <td>14.880000</td>\n",
       "      <td>7.842857</td>\n",
       "      <td>30.200001</td>\n",
       "      <td>13.985714</td>\n",
       "      <td>3.357143</td>\n",
       "      <td>17.714285</td>\n",
       "      <td>dataset</td>\n",
       "    </tr>\n",
       "  </tbody>\n",
       "</table>\n",
       "<p>129143 rows × 253 columns</p>\n",
       "</div>"
      ],
      "text/plain": [
       "                     _time  fe_time_month  fe_time_quarter  fe_time_semester  \\\n",
       "0      2023-01-10 03:55:00              1                1                 1   \n",
       "1      2023-01-10 04:00:00              1                1                 1   \n",
       "2      2023-01-10 04:05:00              1                1                 1   \n",
       "3      2023-01-10 04:10:00              1                1                 1   \n",
       "4      2023-01-10 04:15:00              1                1                 1   \n",
       "...                    ...            ...              ...               ...   \n",
       "129138 2024-09-27 13:25:00              9                3                 2   \n",
       "129139 2024-09-27 13:30:00              9                3                 2   \n",
       "129140 2024-09-27 13:35:00              9                3                 2   \n",
       "129141 2024-09-27 13:40:00              9                3                 2   \n",
       "129142 2024-09-27 13:45:00              9                3                 2   \n",
       "\n",
       "        fe_time_week  fe_time_day_of_week  fe_time_day_of_month  \\\n",
       "0                  2                    0                     9   \n",
       "1                  2                    0                     9   \n",
       "2                  2                    0                     9   \n",
       "3                  2                    0                     9   \n",
       "4                  2                    0                     9   \n",
       "...              ...                  ...                   ...   \n",
       "129138            39                    4                    27   \n",
       "129139            39                    4                    27   \n",
       "129140            39                    4                    27   \n",
       "129141            39                    4                    27   \n",
       "129142            39                    4                    27   \n",
       "\n",
       "        fe_time_day_of_year  fe_time_month_start  fe_time_month_end  ...  \\\n",
       "0                         9                    0                  0  ...   \n",
       "1                         9                    0                  0  ...   \n",
       "2                         9                    0                  0  ...   \n",
       "3                         9                    0                  0  ...   \n",
       "4                         9                    0                  0  ...   \n",
       "...                     ...                  ...                ...  ...   \n",
       "129138                  271                    0                  0  ...   \n",
       "129139                  271                    0                  0  ...   \n",
       "129140                  271                    0                  0  ...   \n",
       "129141                  271                    0                  0  ...   \n",
       "129142                  271                    0                  0  ...   \n",
       "\n",
       "        fe_ATR_EURUSD_M240_W30_cndl_M240  fe_ATR_EURUSD_M30_W30_cndl_M30  \\\n",
       "0                              43.630001                       12.213333   \n",
       "1                              43.630001                       12.213333   \n",
       "2                              43.630001                       12.213333   \n",
       "3                              43.630001                       12.213333   \n",
       "4                              43.630001                       12.213333   \n",
       "...                                  ...                             ...   \n",
       "129138                         27.476667                        8.166667   \n",
       "129139                         27.476667                        8.166667   \n",
       "129140                         27.476667                        8.166667   \n",
       "129141                         27.476667                        8.166667   \n",
       "129142                         27.476667                        8.166667   \n",
       "\n",
       "        fe_ATR_EURUSD_M5_W30_cndl_M5  fe_ATR_EURUSD_M60_W30_cndl_M60  \\\n",
       "0                           3.623333                       16.603333   \n",
       "1                           3.650000                       16.603333   \n",
       "2                           3.656667                       16.603333   \n",
       "3                           3.793333                       16.603333   \n",
       "4                           3.826667                       16.603333   \n",
       "...                              ...                             ...   \n",
       "129138                      4.090000                       14.880000   \n",
       "129139                      4.166667                       14.880000   \n",
       "129140                      4.063334                       14.880000   \n",
       "129141                      4.076667                       14.880000   \n",
       "129142                      3.996667                       14.880000   \n",
       "\n",
       "        fe_ATR_EURUSD_M15_W7_cndl_M15  fe_ATR_EURUSD_M240_W7_cndl_M240  \\\n",
       "0                            6.600000                        36.228573   \n",
       "1                            6.600000                        36.228573   \n",
       "2                            6.600000                        36.228573   \n",
       "3                            6.471428                        36.228573   \n",
       "4                            6.471428                        36.228573   \n",
       "...                               ...                              ...   \n",
       "129138                       8.085714                        30.200001   \n",
       "129139                       8.085714                        30.200001   \n",
       "129140                       8.085714                        30.200001   \n",
       "129141                       7.842857                        30.200001   \n",
       "129142                       7.842857                        30.200001   \n",
       "\n",
       "        fe_ATR_EURUSD_M30_W7_cndl_M30  fe_ATR_EURUSD_M5_W7_cndl_M5  \\\n",
       "0                            8.485714                     3.614286   \n",
       "1                            8.485714                     3.100000   \n",
       "2                            8.485714                     3.057143   \n",
       "3                            8.485714                     3.600000   \n",
       "4                            8.485714                     3.771429   \n",
       "...                               ...                          ...   \n",
       "129138                      13.985714                     3.142857   \n",
       "129139                      13.985714                     3.685714   \n",
       "129140                      13.985714                     3.285714   \n",
       "129141                      13.985714                     3.442857   \n",
       "129142                      13.985714                     3.357143   \n",
       "\n",
       "        fe_ATR_EURUSD_M60_W7_cndl_M60   symbol  \n",
       "0                           12.600000  dataset  \n",
       "1                           12.600000  dataset  \n",
       "2                           12.600000  dataset  \n",
       "3                           12.600000  dataset  \n",
       "4                           12.600000  dataset  \n",
       "...                               ...      ...  \n",
       "129138                      17.714285  dataset  \n",
       "129139                      17.714285  dataset  \n",
       "129140                      17.714285  dataset  \n",
       "129141                      17.714285  dataset  \n",
       "129142                      17.714285  dataset  \n",
       "\n",
       "[129143 rows x 253 columns]"
      ]
     },
     "execution_count": 10,
     "metadata": {},
     "output_type": "execute_result"
    }
   ],
   "source": [
    "df = pd.read_parquet('data\\dataset\\dataset.parquet')\n",
    "df"
   ]
  }
 ],
 "metadata": {
  "kernelspec": {
   "display_name": ".venv",
   "language": "python",
   "name": "python3"
  },
  "language_info": {
   "codemirror_mode": {
    "name": "ipython",
    "version": 3
   },
   "file_extension": ".py",
   "mimetype": "text/x-python",
   "name": "python",
   "nbconvert_exporter": "python",
   "pygments_lexer": "ipython3",
   "version": "3.8.19"
  },
  "orig_nbformat": 4
 },
 "nbformat": 4,
 "nbformat_minor": 2
}
